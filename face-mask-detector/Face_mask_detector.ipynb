{
  "nbformat": 4,
  "nbformat_minor": 0,
  "metadata": {
    "colab": {
      "name": "Face_mask_detector.ipynb",
      "provenance": []
    },
    "kernelspec": {
      "name": "python3",
      "display_name": "Python 3"
    }
  },
  "cells": [
    {
      "cell_type": "code",
      "metadata": {
        "id": "9HKFfoc3mdAB"
      },
      "source": [
        ""
      ],
      "execution_count": null,
      "outputs": []
    },
    {
      "cell_type": "code",
      "metadata": {
        "id": "ezlUggeG2g6o"
      },
      "source": [
        "import os\n",
        "from imutils import paths\n",
        "import numpy as np\n",
        "from tensorflow.keras.applications import MobileNetV2\n",
        "from tensorflow.keras.applications.mobilenet_v2 import preprocess_input\n",
        "from tensorflow.keras.layers import Input,Flatten,AveragePooling2D,Dense,Dropout\n",
        "from tensorflow.keras.preprocessing.image import load_img,img_to_array\n",
        "from tensorflow.keras.preprocessing.image import ImageDataGenerator\n",
        "from tensorflow.keras.optimizers import Adam\n",
        "from tensorflow.keras.models import Model\n",
        "from tensorflow.keras.utils import to_categorical\n",
        "from sklearn.preprocessing import LabelBinarizer\n",
        "from sklearn.model_selection import train_test_split\n",
        "from sklearn.metrics import classification_report\n",
        "import matplotlib.pyplot as plt"
      ],
      "execution_count": 8,
      "outputs": []
    },
    {
      "cell_type": "code",
      "metadata": {
        "id": "B4Ckkhvd3V7N"
      },
      "source": [
        "#loading and preprocessing our dataset\n",
        "path='/content/drive/MyDrive/dataset'\n",
        "imagepaths = list(paths.list_images(path))\n",
        "data =[]\n",
        "labels = []\n",
        "for imagepath in imagepaths:\n",
        "  label = imagepath.split(os.path.sep)[-2]\n",
        "  image = load_img(imagepath,target_size= (224,224))\n",
        "  image= img_to_array(image)\n",
        "  image= preprocess_input(image)\n",
        "\n",
        "  data.append(image)\n",
        "  labels.append(label)\n",
        "  \n",
        "data = np.array(data,dtype='float32')\n",
        "labels = np.array(labels)  "
      ],
      "execution_count": 9,
      "outputs": []
    },
    {
      "cell_type": "code",
      "metadata": {
        "id": "ZKcuTNF2S4iu"
      },
      "source": [
        ""
      ],
      "execution_count": 9,
      "outputs": []
    },
    {
      "cell_type": "code",
      "metadata": {
        "id": "smIHXorI9loa"
      },
      "source": [
        "#processing the dataset\n",
        "lb = LabelBinarizer()\n",
        "labels= lb.fit_transform(labels)\n",
        "labels = to_categorical(labels)\n",
        "\n",
        "(trainx,testx,trainy,testy)= train_test_split(data,labels,test_size=0.2,stratify = labels)\n",
        "\n",
        "# construct the training image generator for data augmentation\n",
        "aug = ImageDataGenerator(\n",
        "\trotation_range=20,\n",
        "\tzoom_range=0.15,\n",
        "\twidth_shift_range=0.2,\n",
        "\theight_shift_range=0.2,\n",
        "\tshear_range=0.15,\n",
        "\thorizontal_flip=True,\n",
        "\tfill_mode=\"nearest\")\n"
      ],
      "execution_count": 10,
      "outputs": []
    },
    {
      "cell_type": "code",
      "metadata": {
        "id": "v5WCd9Fb-dOt",
        "colab": {
          "base_uri": "https://localhost:8080/"
        },
        "outputId": "db358ce3-9338-4d02-d904-35be43be8851"
      },
      "source": [
        "#loading the MobileNetv2 model and ensuring that include_top=False\n",
        "basemodel = MobileNetV2(weights = 'imagenet',include_top=False,input_tensor=Input(shape=(224,224,3)))\n",
        "\n",
        "headmodel = basemodel.output\n",
        "headmodel = AveragePooling2D(pool_size=(7,7))(headmodel)\n",
        "headmodel = Flatten(name='flatten')(headmodel)\n",
        "headmodel = Dense(128,activation = 'relu')(headmodel)\n",
        "headmodel = Dropout(0.5)(headmodel)\n",
        "headmodel = Dense(2,activation='softmax')(headmodel)\n",
        "\n",
        "model = Model(inputs=basemodel.input,outputs = headmodel)\n",
        "\n",
        "#freezing the layers of basemodel\n",
        "for layer in basemodel.layers:\n",
        "  layer.trainable = False"
      ],
      "execution_count": 11,
      "outputs": [
        {
          "output_type": "stream",
          "text": [
            "WARNING:tensorflow:`input_shape` is undefined or non-square, or `rows` is not in [96, 128, 160, 192, 224]. Weights for input shape (224, 224) will be loaded as the default.\n",
            "Downloading data from https://storage.googleapis.com/tensorflow/keras-applications/mobilenet_v2/mobilenet_v2_weights_tf_dim_ordering_tf_kernels_1.0_224_no_top.h5\n",
            "9412608/9406464 [==============================] - 0s 0us/step\n"
          ],
          "name": "stdout"
        }
      ]
    },
    {
      "cell_type": "code",
      "metadata": {
        "colab": {
          "base_uri": "https://localhost:8080/"
        },
        "id": "fxgoEQ_ZvJ08",
        "outputId": "faf8e2f2-8660-4f47-b041-77b42f5676c8"
      },
      "source": [
        "#training the model\n",
        "opt = Adam(lr=1e-4,decay=1e-4/20)\n",
        "model.compile(loss='binary_crossentropy',optimizer=opt,metrics=['accuracy'])\n",
        "\n",
        "hist=model.fit(aug.flow(x=trainx,y=trainy,batch_size=32),epochs=20,steps_per_epoch=len(trainx)//32,\n",
        "          validation_data=(testx,testy),validation_steps=len(testy)//32)\n",
        "\n"
      ],
      "execution_count": 12,
      "outputs": [
        {
          "output_type": "stream",
          "text": [
            "Epoch 1/20\n",
            "34/34 [==============================] - 59s 2s/step - loss: 0.5991 - accuracy: 0.7324 - val_loss: 0.1968 - val_accuracy: 0.9819\n",
            "Epoch 2/20\n",
            "34/34 [==============================] - 54s 2s/step - loss: 0.2347 - accuracy: 0.9581 - val_loss: 0.0904 - val_accuracy: 0.9964\n",
            "Epoch 3/20\n",
            "34/34 [==============================] - 53s 2s/step - loss: 0.1285 - accuracy: 0.9717 - val_loss: 0.0544 - val_accuracy: 0.9964\n",
            "Epoch 4/20\n",
            "34/34 [==============================] - 53s 2s/step - loss: 0.0878 - accuracy: 0.9840 - val_loss: 0.0384 - val_accuracy: 0.9964\n",
            "Epoch 5/20\n",
            "34/34 [==============================] - 53s 2s/step - loss: 0.0733 - accuracy: 0.9873 - val_loss: 0.0293 - val_accuracy: 0.9964\n",
            "Epoch 6/20\n",
            "34/34 [==============================] - 53s 2s/step - loss: 0.0478 - accuracy: 0.9897 - val_loss: 0.0246 - val_accuracy: 0.9964\n",
            "Epoch 7/20\n",
            "34/34 [==============================] - 52s 2s/step - loss: 0.0474 - accuracy: 0.9944 - val_loss: 0.0201 - val_accuracy: 0.9964\n",
            "Epoch 8/20\n",
            "34/34 [==============================] - 54s 2s/step - loss: 0.0365 - accuracy: 0.9931 - val_loss: 0.0174 - val_accuracy: 0.9964\n",
            "Epoch 9/20\n",
            "34/34 [==============================] - 55s 2s/step - loss: 0.0391 - accuracy: 0.9922 - val_loss: 0.0166 - val_accuracy: 0.9964\n",
            "Epoch 10/20\n",
            "34/34 [==============================] - 55s 2s/step - loss: 0.0329 - accuracy: 0.9951 - val_loss: 0.0143 - val_accuracy: 0.9964\n",
            "Epoch 11/20\n",
            "34/34 [==============================] - 55s 2s/step - loss: 0.0300 - accuracy: 0.9926 - val_loss: 0.0122 - val_accuracy: 0.9964\n",
            "Epoch 12/20\n",
            "34/34 [==============================] - 55s 2s/step - loss: 0.0252 - accuracy: 0.9943 - val_loss: 0.0123 - val_accuracy: 0.9964\n",
            "Epoch 13/20\n",
            "34/34 [==============================] - 55s 2s/step - loss: 0.0257 - accuracy: 0.9922 - val_loss: 0.0103 - val_accuracy: 0.9964\n",
            "Epoch 14/20\n",
            "34/34 [==============================] - 54s 2s/step - loss: 0.0246 - accuracy: 0.9953 - val_loss: 0.0093 - val_accuracy: 0.9964\n",
            "Epoch 15/20\n",
            "34/34 [==============================] - 55s 2s/step - loss: 0.0280 - accuracy: 0.9896 - val_loss: 0.0095 - val_accuracy: 0.9964\n",
            "Epoch 16/20\n",
            "34/34 [==============================] - 55s 2s/step - loss: 0.0188 - accuracy: 0.9966 - val_loss: 0.0098 - val_accuracy: 0.9964\n",
            "Epoch 17/20\n",
            "34/34 [==============================] - 55s 2s/step - loss: 0.0196 - accuracy: 0.9957 - val_loss: 0.0078 - val_accuracy: 0.9964\n",
            "Epoch 18/20\n",
            "34/34 [==============================] - 53s 2s/step - loss: 0.0129 - accuracy: 0.9968 - val_loss: 0.0070 - val_accuracy: 0.9964\n",
            "Epoch 19/20\n",
            "34/34 [==============================] - 53s 2s/step - loss: 0.0111 - accuracy: 0.9970 - val_loss: 0.0070 - val_accuracy: 0.9964\n",
            "Epoch 20/20\n",
            "34/34 [==============================] - 54s 2s/step - loss: 0.0178 - accuracy: 0.9951 - val_loss: 0.0086 - val_accuracy: 0.9964\n"
          ],
          "name": "stdout"
        }
      ]
    },
    {
      "cell_type": "code",
      "metadata": {
        "colab": {
          "base_uri": "https://localhost:8080/"
        },
        "id": "furUCIM_UhWl",
        "outputId": "60c82039-c339-42ad-e50f-695a69fddce4"
      },
      "source": [
        "#predicting on test data\n",
        "predictions = model.predict(testx,batch_size=32)\n",
        "preidx = np.argmax(predictions,axis=1)\n",
        "\n",
        "print(classification_report(testy.argmax(axis=1),preidx,target_names=lb.classes_))\n",
        "\n",
        "model.save('mask_detector.model',save_format=\"h5\")\n"
      ],
      "execution_count": 13,
      "outputs": [
        {
          "output_type": "stream",
          "text": [
            "              precision    recall  f1-score   support\n",
            "\n",
            "   with_mask       0.99      1.00      1.00       138\n",
            "without_mask       1.00      0.99      1.00       138\n",
            "\n",
            "    accuracy                           1.00       276\n",
            "   macro avg       1.00      1.00      1.00       276\n",
            "weighted avg       1.00      1.00      1.00       276\n",
            "\n"
          ],
          "name": "stdout"
        }
      ]
    },
    {
      "cell_type": "code",
      "metadata": {
        "colab": {
          "base_uri": "https://localhost:8080/",
          "height": 299
        },
        "id": "aSZFuwrXMTyJ",
        "outputId": "906b0fa8-a1c9-4381-9424-e278a8372b4b"
      },
      "source": [
        "#plotting the training loss and accuracy\n",
        "plt.style.use('ggplot')\n",
        "plt.figure()\n",
        "plt.plot(np.arange(0,20),hist.history['loss'],label='train_loss')\n",
        "plt.plot(np.arange(0,20),hist.history['accuracy'],label='train_accuracy')\n",
        "plt.plot(np.arange(0,20),hist.history['val_accuracy'],label='val_accuracy')\n",
        "plt.plot(np.arange(0,20),hist.history['val_loss'],label='val_loss')\n",
        "plt.xlabel('epoch')\n",
        "plt.ylabel('loss/accuracy')\n",
        "plt.title('training and validation')\n",
        "plt.legend(loc='lower left')\n",
        "plt.savefig('plot.png')\n",
        "\n"
      ],
      "execution_count": 14,
      "outputs": [
        {
          "output_type": "display_data",
          "data": {
            "image/png": "[encoded data removed]",
            "text/plain": [
              "<Figure size 432x288 with 1 Axes>"
            ]
          },
          "metadata": {
            "tags": []
          }
        }
      ]
    },
    {
      "cell_type": "code",
      "metadata": {
        "id": "BHEaKPOtdsPM"
      },
      "source": [
        "\n"
      ],
      "execution_count": 14,
      "outputs": []
    },
    {
      "cell_type": "code",
      "metadata": {
        "id": "0G7mzyaqnUMb"
      },
      "source": [
        ""
      ],
      "execution_count": 14,
      "outputs": []
    }
  ]
}